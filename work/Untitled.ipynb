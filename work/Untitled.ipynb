{
 "cells": [
  {
   "cell_type": "code",
   "execution_count": 3,
   "id": "3f2f558d-99da-46a5-975b-8ffe7b171be6",
   "metadata": {},
   "outputs": [
    {
     "name": "stdout",
     "output_type": "stream",
     "text": [
      "[2, 4, 3, 1, 5, 6, 2, 5, 2, 5, 9, 7, 9, 0]\n"
     ]
    }
   ],
   "source": [
    "def flt_lis(nested_lis):\n",
    "    mt = []\n",
    "    for i in nested_lis:\n",
    "        if isinstance(i,list):\n",
    "            mt.extend(flt_lis(i))\n",
    "        else:\n",
    "            mt.append(i)\n",
    "    return mt   \n",
    "original_list = [[2, 4, 3], [1, 5, 6, [2, 5, [2, 5]]], [9], [7, 9, 0]]\n",
    "flatten = flt_lis(original_list)\n",
    "print(flatten)            \n",
    "            "
   ]
  },
  {
   "cell_type": "code",
   "execution_count": 9,
   "id": "466bdf4d-3d79-48a7-a09f-df4ec0b86bec",
   "metadata": {},
   "outputs": [
    {
     "name": "stdout",
     "output_type": "stream",
     "text": [
      "<class 'list'>\n"
     ]
    }
   ],
   "source": [
    "a =([2, 4, 3, 1, 5, 6, 2, 5, 2, 5, 9, 7, 9, 0])\n",
    "print(type(a))"
   ]
  },
  {
   "cell_type": "code",
   "execution_count": null,
   "id": "19a632a9-1c68-46f2-b30b-2a93787cf897",
   "metadata": {},
   "outputs": [],
   "source": []
  }
 ],
 "metadata": {
  "kernelspec": {
   "display_name": "Python 3 (ipykernel)",
   "language": "python",
   "name": "python3"
  },
  "language_info": {
   "codemirror_mode": {
    "name": "ipython",
    "version": 3
   },
   "file_extension": ".py",
   "mimetype": "text/x-python",
   "name": "python",
   "nbconvert_exporter": "python",
   "pygments_lexer": "ipython3",
   "version": "3.12.3"
  }
 },
 "nbformat": 4,
 "nbformat_minor": 5
}
